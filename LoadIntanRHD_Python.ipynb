{
 "cells": [
  {
   "cell_type": "markdown",
   "id": "8d0f8a3b",
   "metadata": {},
   "source": [
    "# Load Data from an Intan RHD file.\n",
    "### Header information (and saved data, if present) will be stored in the *result* variable. You'll also be able to specify a channel's name to plot its recorded data as an example of accessing data from *result*."
   ]
  },
  {
   "cell_type": "code",
   "execution_count": 1,
   "id": "256cb8d8",
   "metadata": {},
   "outputs": [],
   "source": [
    "# Load the background Python functions that allow for data loading and plotting\n",
    "%run importrhdutilities.py"
   ]
  },
  {
   "cell_type": "markdown",
   "id": "028df8fc",
   "metadata": {},
   "source": [
    "### Name of file to load. To load a different file, move it to the same directory as this notebook, and change the following 'filename' variable to point the name of your file.\n",
    "\n",
    "### Once a file is loaded, all of its information is stored in the *result* variable. If further analysis of this data is desired, this is the variable the should be accessed."
   ]
  },
  {
   "cell_type": "code",
   "execution_count": 2,
   "id": "880246c0",
   "metadata": {
    "scrolled": true
   },
   "outputs": [
    {
     "name": "stdout",
     "output_type": "stream",
     "text": [
      "\n",
      "Reading Intan Technologies RHD2000 Data File, Version 1.5\n",
      "\n",
      "Found 128 amplifier channels.\n",
      "Found 6 auxiliary input channels.\n",
      "Found 2 supply voltage channels.\n",
      "Found 0 board ADC channels.\n",
      "Found 0 board digital input channels.\n",
      "Found 0 board digital output channels.\n",
      "Found 0 temperature sensors channels.\n",
      "\n",
      "File contains 1.044 seconds of data.  Amplifiers were sampled at 20.00 kS/s.\n",
      "\n",
      "Allocating memory for data...\n",
      "Reading data from file...\n",
      "10% done...\n",
      "20% done...\n",
      "30% done...\n",
      "40% done...\n",
      "50% done...\n",
      "60% done...\n",
      "70% done...\n",
      "80% done...\n",
      "90% done...\n",
      "100% done...\n",
      "Parsing data...\n",
      "No missing timestamps in data.\n",
      "Applying notch filter...\n",
      "10% done...\n",
      "20% done...\n",
      "30% done...\n",
      "40% done...\n",
      "50% done...\n",
      "60% done...\n",
      "70% done...\n",
      "80% done...\n",
      "90% done...\n",
      "Done!  Elapsed time: 4.8 seconds\n"
     ]
    }
   ],
   "source": [
    "filename = 'verysimple_notch_filter.rhd' # Change this variable to load a different data file\n",
    "result, data_present = load_file(filename)"
   ]
  },
  {
   "cell_type": "markdown",
   "id": "db4728ed",
   "metadata": {},
   "source": [
    "### Once a file is loaded, all of its information is stored in the *result* variable. If further analysis of recorded data is desired, this is the variable that should be used."
   ]
  },
  {
   "cell_type": "code",
   "execution_count": 3,
   "id": "2c0cfab5",
   "metadata": {},
   "outputs": [
    {
     "name": "stdout",
     "output_type": "stream",
     "text": [
      "A-000\n",
      "A-001\n",
      "A-002\n",
      "A-003\n",
      "A-004\n",
      "A-005\n",
      "A-006\n",
      "A-007\n",
      "A-008\n",
      "A-009\n",
      "A-010\n",
      "A-011\n",
      "A-012\n",
      "A-013\n",
      "A-014\n",
      "A-015\n",
      "A-016\n",
      "A-017\n",
      "A-018\n",
      "A-019\n",
      "A-020\n",
      "A-021\n",
      "A-022\n",
      "A-023\n",
      "A-024\n",
      "A-025\n",
      "A-026\n",
      "A-027\n",
      "A-028\n",
      "A-029\n",
      "A-030\n",
      "A-031\n",
      "A-032\n",
      "A-033\n",
      "A-034\n",
      "A-035\n",
      "A-036\n",
      "A-037\n",
      "A-038\n",
      "A-039\n",
      "A-040\n",
      "A-041\n",
      "A-042\n",
      "A-043\n",
      "A-044\n",
      "A-045\n",
      "A-046\n",
      "A-047\n",
      "A-048\n",
      "A-049\n",
      "A-050\n",
      "A-051\n",
      "A-052\n",
      "A-053\n",
      "A-054\n",
      "A-055\n",
      "A-056\n",
      "A-057\n",
      "A-058\n",
      "A-059\n",
      "A-060\n",
      "A-061\n",
      "A-062\n",
      "A-063\n",
      "A-064\n",
      "A-065\n",
      "A-066\n",
      "A-067\n",
      "A-068\n",
      "A-069\n",
      "A-070\n",
      "A-071\n",
      "A-072\n",
      "A-073\n",
      "A-074\n",
      "A-075\n",
      "A-076\n",
      "A-077\n",
      "A-078\n",
      "A-079\n",
      "A-080\n",
      "A-081\n",
      "A-082\n",
      "A-083\n",
      "A-084\n",
      "A-085\n",
      "A-086\n",
      "A-087\n",
      "A-088\n",
      "A-089\n",
      "A-090\n",
      "A-091\n",
      "A-092\n",
      "A-093\n",
      "A-094\n",
      "A-095\n",
      "A-096\n",
      "A-097\n",
      "A-098\n",
      "A-099\n",
      "A-100\n",
      "A-101\n",
      "A-102\n",
      "A-103\n",
      "A-104\n",
      "A-105\n",
      "A-106\n",
      "A-107\n",
      "A-108\n",
      "A-109\n",
      "A-110\n",
      "A-111\n",
      "A-112\n",
      "A-113\n",
      "A-114\n",
      "A-115\n",
      "A-116\n",
      "A-117\n",
      "A-118\n",
      "A-119\n",
      "A-120\n",
      "A-121\n",
      "A-122\n",
      "A-123\n",
      "A-124\n",
      "A-125\n",
      "A-126\n",
      "A-127\n",
      "A-AUX1\n",
      "A-AUX2\n",
      "A-AUX3\n",
      "A-AUX4\n",
      "A-AUX5\n",
      "A-AUX6\n",
      "A-VDD1\n",
      "A-VDD2\n"
     ]
    }
   ],
   "source": [
    "print_all_channel_names(result) # Uncomment this line and re-run cell to display names of all available channels"
   ]
  },
  {
   "cell_type": "code",
   "execution_count": 4,
   "id": "5ecdcea1",
   "metadata": {
    "scrolled": true
   },
   "outputs": [
    {
     "data": {
      "image/png": "[encoded data removed]",
      "text/plain": [
       "<Figure size 432x288 with 1 Axes>"
      ]
     },
     "metadata": {
      "needs_background": "light"
     },
     "output_type": "display_data"
    }
   ],
   "source": [
    "channel_name = 'A-AUX1' # Change this variable and re-run cell to plot a different channel\n",
    "\n",
    "%matplotlib inline\n",
    "\n",
    "if data_present:\n",
    "    plot_channel(channel_name, result)\n",
    "    \n",
    "else:\n",
    "    print('Plotting not possible; no data in this file')"
   ]
  }
 ],
 "metadata": {
  "kernelspec": {
   "display_name": "Python 3",
   "language": "python",
   "name": "python3"
  },
  "language_info": {
   "codemirror_mode": {
    "name": "ipython",
    "version": 3
   },
   "file_extension": ".py",
   "mimetype": "text/x-python",
   "name": "python",
   "nbconvert_exporter": "python",
   "pygments_lexer": "ipython3",
   "version": "3.8.10"
  }
 },
 "nbformat": 4,
 "nbformat_minor": 5
}
