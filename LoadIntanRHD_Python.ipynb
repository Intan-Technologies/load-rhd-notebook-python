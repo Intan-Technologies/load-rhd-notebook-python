{
 "cells": [
  {
   "cell_type": "markdown",
   "id": "8d0f8a3b",
   "metadata": {},
   "source": [
    "# Load Data from an Intan RHD file.\n",
    "### Header information (and saved data, if present) will be stored in the *result* variable. You'll also be able to specify a channel's name to plot its recorded data as an example of accessing data from *result*."
   ]
  },
  {
   "cell_type": "code",
   "execution_count": null,
   "id": "256cb8d8",
   "metadata": {},
   "outputs": [],
   "source": [
    "# Load the background Python functions that allow for data loading and plotting\n",
    "%run importrhdutilities.py"
   ]
  },
  {
   "cell_type": "markdown",
   "id": "028df8fc",
   "metadata": {},
   "source": [
    "### Name of file to load. To load a different file, move it to the same directory as this notebook, and change the following 'filename' variable to point the name of your file."
   ]
  },
  {
   "cell_type": "code",
   "execution_count": null,
   "id": "880246c0",
   "metadata": {
    "scrolled": true
   },
   "outputs": [],
   "source": [
    "filename = 'sampledata.rhd' # Change this variable to load a different data file\n",
    "result, data_present = load_file(filename)"
   ]
  },
  {
   "cell_type": "markdown",
   "id": "db4728ed",
   "metadata": {},
   "source": [
    "### Once a file is loaded, all of its information is stored in the *result* variable. If further analysis of recorded data is desired, this is the variable that should be used."
   ]
  },
  {
   "cell_type": "code",
   "execution_count": null,
   "id": "2c0cfab5",
   "metadata": {},
   "outputs": [],
   "source": [
    "#print_all_channel_names(result) # Uncomment this line and re-run cell to display names of all available channels"
   ]
  },
  {
   "cell_type": "code",
   "execution_count": null,
   "id": "5ecdcea1",
   "metadata": {
    "scrolled": true
   },
   "outputs": [],
   "source": [
    "channel_name = 'A-007' # Change this variable and re-run cell to plot a different channel\n",
    "\n",
    "%matplotlib inline\n",
    "\n",
    "if data_present:\n",
    "    plot_channel(channel_name, result)\n",
    "    \n",
    "else:\n",
    "    print('Plotting not possible; no data in this file')"
   ]
  }
 ],
 "metadata": {
  "kernelspec": {
   "display_name": "Python 3",
   "language": "python",
   "name": "python3"
  },
  "language_info": {
   "codemirror_mode": {
    "name": "ipython",
    "version": 3
   },
   "file_extension": ".py",
   "mimetype": "text/x-python",
   "name": "python",
   "nbconvert_exporter": "python",
   "pygments_lexer": "ipython3",
   "version": "3.8.8"
  }
 },
 "nbformat": 4,
 "nbformat_minor": 5
}
